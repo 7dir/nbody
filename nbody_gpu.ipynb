{
  "nbformat": 4,
  "nbformat_minor": 0,
  "metadata": {
    "colab": {
      "name": "nbody_gpu",
      "version": "0.3.2",
      "provenance": [],
      "collapsed_sections": []
    },
    "kernelspec": {
      "name": "python2",
      "display_name": "Python 2"
    },
    "accelerator": "GPU"
  },
  "cells": [
    {
      "metadata": {
        "colab_type": "text",
        "id": "BlmQIFSLZDdc"
      },
      "cell_type": "markdown",
      "source": [
        "# Install"
      ]
    },
    {
      "metadata": {
        "colab_type": "code",
        "id": "3IEVK-KFxi5Z",
        "colab": {}
      },
      "cell_type": "code",
      "source": [
        "!nvidia-smi -L\n",
        "!gcc --version\n",
        "!echo \"Install reqs...\"\n",
        "!apt-get install libqt4-dev libqt4-opengl-dev ocl-icd-opencl-dev opencl-clhpp-headers 1>/dev/null\n",
        "!echo \"Ok!\""
      ],
      "execution_count": 0,
      "outputs": []
    },
    {
      "metadata": {
        "id": "mgXfC3dtneEK",
        "colab_type": "text"
      },
      "cell_type": "markdown",
      "source": [
        "# Clone & Build"
      ]
    },
    {
      "metadata": {
        "id": "Z1b9Zz3tn96o",
        "colab_type": "code",
        "colab": {}
      },
      "cell_type": "code",
      "source": [
        "!cd $HOME\n",
        "!rm -rf $HOME/nbody\n",
        "!rm -rf $HOME/build-release\n",
        "!git clone https://github.com/drons/nbody.git --single-branch -b develop $HOME/nbody\n",
        "!cd $HOME/nbody && git status\n",
        "\n",
        "\n",
        "!mkdir $HOME/build-release\n",
        "!cd $HOME/build-release && qmake $HOME/nbody/nbody.pro CONFIG+=release CONFIG+=NO_UI && make -j2 2>$HOME/build.log 1>/dev/null && echo \"Build OK!\"\n",
        "!cat $HOME/build.log"
      ],
      "execution_count": 0,
      "outputs": []
    },
    {
      "metadata": {
        "id": "8Ec22-c-sMpE",
        "colab_type": "text"
      },
      "cell_type": "markdown",
      "source": [
        "#Run tests"
      ]
    },
    {
      "metadata": {
        "id": "M3PCYC4dsRCy",
        "colab_type": "code",
        "colab": {}
      },
      "cell_type": "code",
      "source": [
        "!export LD_LIBRARY_PATH=$HOME/build-release/lib:${LD_LIBRARY_PATH} && $HOME/build-release/test/engine/engine 1>/dev/null && echo \"Engine OK!\" || echo \"Engine Failed:(\"\n",
        "!export LD_LIBRARY_PATH=$HOME/build-release/lib:${LD_LIBRARY_PATH} && $HOME/build-release/test/solver/solver 1>/dev/null && echo \"Solver OK!\" || echo \"Solver Failed:(\"  \n",
        "!export LD_LIBRARY_PATH=$HOME/build-release/lib:${LD_LIBRARY_PATH} && $HOME/build-release/test/stream/stream 1>/dev/null && echo \"Stream OK!\" || echo \"Stream Failed:(\""
      ],
      "execution_count": 0,
      "outputs": []
    },
    {
      "metadata": {
        "id": "BbKBOG5_6k9K",
        "colab_type": "text"
      },
      "cell_type": "markdown",
      "source": [
        "#Run simulation"
      ]
    },
    {
      "metadata": {
        "id": "wRitNGrP6rfo",
        "colab_type": "code",
        "colab": {}
      },
      "cell_type": "code",
      "source": [
        "!export LD_LIBRARY_PATH=$HOME/build-release/lib:${LD_LIBRARY_PATH} && $HOME/build-release/test/main/nbody-simulation --engine=opencl --solver=rkdp --max_time=300 --min_step=0.001 --check_step=5 --stars_count=1024 --verbose=1 --output=$HOME/alone_galaxy"
      ],
      "execution_count": 0,
      "outputs": []
    }
  ]
}